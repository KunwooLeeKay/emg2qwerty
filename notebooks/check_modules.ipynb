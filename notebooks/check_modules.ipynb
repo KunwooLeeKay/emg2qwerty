{
 "cells": [
  {
   "cell_type": "code",
   "execution_count": null,
   "metadata": {},
   "outputs": [
    {
     "ename": "",
     "evalue": "",
     "output_type": "error",
     "traceback": [
      "\u001b[1;31mRunning cells with 'emg2qwerty (Python 3.10.13)' requires the ipykernel package.\n",
      "\u001b[1;31mRun the following command to install 'ipykernel' into the Python environment. \n",
      "\u001b[1;31mCommand: 'conda install -n emg2qwerty ipykernel --update-deps --force-reinstall'"
     ]
    }
   ],
   "source": [
    "import subprocess\n",
    "\n",
    "def list_conda_packages():\n",
    "    try:\n",
    "        result = subprocess.run([\"conda\", \"list\"], capture_output=True, text=True, check=True)\n",
    "        print(result.stdout)\n",
    "    except subprocess.CalledProcessError as e:\n",
    "        print(\"Failed to retrieve conda packages:\", e)\n",
    "\n",
    "list_conda_packages()\n"
   ]
  },
  {
   "cell_type": "code",
   "execution_count": null,
   "metadata": {},
   "outputs": [],
   "source": []
  }
 ],
 "metadata": {
  "kernelspec": {
   "display_name": "emg2qwerty",
   "language": "python",
   "name": "python3"
  },
  "language_info": {
   "name": "python",
   "version": "3.10.13"
  }
 },
 "nbformat": 4,
 "nbformat_minor": 2
}
